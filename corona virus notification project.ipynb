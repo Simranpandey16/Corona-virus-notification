{
 "cells": [
  {
   "cell_type": "code",
   "execution_count": 1,
   "metadata": {},
   "outputs": [],
   "source": [
    "from plyer import notification\n",
    "from bs4 import BeautifulSoup\n",
    "import requests\n",
    "import time"
   ]
  },
  {
   "cell_type": "code",
   "execution_count": 2,
   "metadata": {},
   "outputs": [],
   "source": [
    "def getData(url):\n",
    "    r = requests.get(url)\n",
    "    return r.text"
   ]
  },
  {
   "cell_type": "code",
   "execution_count": 3,
   "metadata": {},
   "outputs": [],
   "source": [
    "def notifyme(title,message):\n",
    "    notification.notify(\n",
    "    title=title,\n",
    "    message=message,\n",
    "    #app_icon = \"C:\\\\Users\\\\Admin\\\\Desktop\\\\python\\\\coronaicon1.ico\",\n",
    "    timeout=15\n",
    "    )\n"
   ]
  },
  {
   "cell_type": "code",
   "execution_count": null,
   "metadata": {},
   "outputs": [
    {
     "name": "stdout",
     "output_type": "stream",
     "text": [
      "['5', 'Bihar', '64', '19', '1']\n",
      "['8', 'Delhi', '1069', '25', '19']\n",
      "['30', 'Uttar Pradesh', '452', '45', '5']\n"
     ]
    }
   ],
   "source": [
    "if __name__== \"__main__\" :\n",
    "    while True:\n",
    "        myhtmldata=getData(\"https://www.mohfw.gov.in/\")\n",
    "        soup = BeautifulSoup(myhtmldata,'html.parser')\n",
    "        #print(soup.pretiffy())\n",
    "        mydatastr=\"\"\n",
    "        for tr in soup.find_all('tbody')[0].find_all('tr'):\n",
    "            mydatastr += tr.get_text()\n",
    "        mydatastr=mydatastr[1:]\n",
    "        itemlist=mydatastr.split(\"\\n\\n\")\n",
    "        states=['Delhi','Bihar','Uttar Pradesh']\n",
    "        for item in itemlist[0:31]:\n",
    "            datalist=item.split(\"\\n\")\n",
    "            if datalist[1] in states:\n",
    "                print(datalist)\n",
    "                ntitle = \"Cases of covid-19\"\n",
    "                ntext=f\"STATES: { datalist[1]}\\nConfirmed cases : {datalist[2]}\\nCured/discharged : {datalist[3]}\\nDeaths : {datalist[4]} \"\n",
    "                notifyme(ntitle,ntext)\n",
    "                time.sleep(2)\n",
    "        time.sleep(3600)"
   ]
  },
  {
   "cell_type": "code",
   "execution_count": null,
   "metadata": {},
   "outputs": [],
   "source": []
  },
  {
   "cell_type": "code",
   "execution_count": null,
   "metadata": {},
   "outputs": [],
   "source": []
  }
 ],
 "metadata": {
  "kernelspec": {
   "display_name": "Python 3",
   "language": "python",
   "name": "python3"
  },
  "language_info": {
   "codemirror_mode": {
    "name": "ipython",
    "version": 3
   },
   "file_extension": ".py",
   "mimetype": "text/x-python",
   "name": "python",
   "nbconvert_exporter": "python",
   "pygments_lexer": "ipython3",
   "version": "3.7.3"
  }
 },
 "nbformat": 4,
 "nbformat_minor": 2
}
